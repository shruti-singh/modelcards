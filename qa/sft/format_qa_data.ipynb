{
 "cells": [
  {
   "cell_type": "code",
   "execution_count": 1,
   "metadata": {},
   "outputs": [],
   "source": [
    "import pandas as pd\n",
    "import random\n",
    "from collections import defaultdict\n",
    "import json"
   ]
  },
  {
   "cell_type": "code",
   "execution_count": 2,
   "metadata": {},
   "outputs": [],
   "source": [
    "data_dir = \"/home/singh_shruti/workspace/rep_learning/eval_llms/modelcards/data/\""
   ]
  },
  {
   "cell_type": "code",
   "execution_count": 3,
   "metadata": {},
   "outputs": [],
   "source": [
    "with open(\"../sft_modelcard_qacontext.json\", \"r\") as f:\n",
    "    qa_data_topk_context = json.load(f)"
   ]
  },
  {
   "cell_type": "code",
   "execution_count": 4,
   "metadata": {},
   "outputs": [
    {
     "data": {
      "text/plain": [
       "['mbart_1', 'mbart_2']"
      ]
     },
     "execution_count": 4,
     "metadata": {},
     "output_type": "execute_result"
    }
   ],
   "source": [
    "list(qa_data_topk_context.keys())[0:2]"
   ]
  },
  {
   "cell_type": "code",
   "execution_count": 5,
   "metadata": {},
   "outputs": [
    {
     "data": {
      "text/plain": [
       "{'question': 'What are the gaps in previous literature that this paper tries to address?',\n",
       " 'answer': 'The last two years have seen the rise of Transfer Learning approaches in Natural Language Processing (NLP) with large-scale pre-trained language models becoming a basic tool in many NLP tasks [Devlin et al., 2018, Radford et al., 2019, Liu et al., 2019]. While these models lead to significant improvement, they often have several hundred million parameters and current research1 on pre-trained models indicates that training even larger models still leads to better performances on downstream tasks. \\n\\nThe trend toward bigger models raises several concerns. First is the environmental cost of exponentially scaling these models’ computational requirements as mentioned in Schwartz et al. [2019], Strubell et al. [2019]. Second, while operating these models on-device in real-time has the potential to enable novel and interesting language processing applications, the growing computational and memory requirements of these models may hamper wide adoption.',\n",
       " 'topk_data': ['To leverage the inductive biases learned by larger models during pre-training, we introduce a triple loss combining language modeling, distillation and cosine-distance losses. Our smaller, faster and lighter model is cheaper to pre-train and we demonstrate its capabilities for on-device computations in a proof-of-concept experiment and a comparative on-device study. 1 Introduction\\nThe last two years have seen the rise of Transfer Learning approaches in Natural Language Processing (NLP) with large-scale pre-trained language models becoming a basic tool in many NLP tasks [Devlin et al., 2018, Radford et al., 2019, Liu et al., 2019]. While these models lead to significant improvement, they often have several hundred million parameters and current research1 on pre-trained models indicates that training even larger models still leads to better performances on downstream tasks. The trend toward bigger models raises several concerns. First is the\\nenvironmental cost of exponentially scaling these models’ computational requirements as mentioned in Schwartz et al. [2019], Strubell et al. [2019]. Second, while operating these models on-device in real-time has the potential to enable novel and interesting language processing applications, the growing computational and memory requirements of these models may hamper wide adoption.\\n1See for instance the recently released MegatronLM (https://nv-adlr.github.io/MegatronLM)\\nEMC^2: 5th Edition Co-located with NeurIPS’19\\nar X\\niv :1\\n91 0. 01 10\\n8v 4\\n[ cs\\n.C L\\n] 1\\nM ar\\n2 02\\nIn this paper, we show that it is possible to reach similar performances on many downstream-tasks using much smaller language models pre-trained with knowledge distillation, resulting in models that are lighter and faster at inference time, while also requiring a smaller computational training budget. Our general-purpose pre-trained models can be fine-tuned with good performances on several downstream tasks, keeping the flexibility of larger models.',\n",
       "  'We also show that our compressed models are small enough to run on the edge, e.g. on mobile devices. Using a triple loss, we show that a 40% smaller Transformer (Vaswani et al. [2017]) pre-trained through distillation via the supervision of a bigger Transformer language model can achieve similar performance on a variety of downstream tasks, while being 60% faster at inference time. Further ablation studies indicate that all the components of the triple loss are important for best performances. We have made the trained weights available along with the training code in the Transformers2 library from HuggingFace [Wolf et al., 2019]. 2 Knowledge distillation. Knowledge distillation [Bucila et al., 2006, Hinton et al., 2015] is a compression technique in which a compact model - the student - is trained to reproduce the behaviour of a larger model - the teacher - or an ensemble of models. In supervised learning, a classification model is generally trained to predict an instance class by maximizing the estimated probability of gold labels. A standard training objective thus involves minimizing the cross-entropy between the model’s predicted distribution and the one-hot empirical distribution of training labels. A model performing well on the training set will predict an output distribution with high probability on the correct class and with near-zero probabilities on other classes. But some of these \"near-zero\" probabilities are larger than others and reflect, in part, the generalization capabilities of the model and how well it will perform on the test set3. Training loss The student is trained with a distillation loss over the soft target probabilities of the teacher: Lce = ∑ i ti ∗ log(si) where ti (resp. si) is a probability estimated by the teacher (resp. the student). This objective results in a rich training signal by leveraging the full teacher distribution. Following Hinton et al.',\n",
       "  '. As Transfer Learning from large-scale pre-trained models becomes more prevalent in Natural Language Processing (NLP), operating these large models in on-theedge and/or under constrained computational training or inference budgets remains challenging. In this work, we propose a method to pre-train a smaller generalpurpose language representation model, called DistilBERT, which can then be finetuned with good performances on a wide range of tasks like its larger counterparts. While most prior work investigated the use of distillation for building task-specific models, we leverage knowledge distillation during the pre-training phase and show that it is possible to reduce the size of a BERT model by 40%, while retaining 97% of its language understanding capabilities and being 60% faster. To leverage the inductive biases learned by larger models during pre-training, we introduce a triple loss combining language modeling, distillation and cosine-distance losses. Our smaller, faster and lighter model is cheaper to pre-train and we demonstrate its capabilities for on-device computations in a proof-of-concept experiment and a comparative on-device study. . As Transfer Learning from large-scale pre-trained models becomes more prevalent in Natural Language Processing (NLP), operating these large models in on-theedge and/or under constrained computational training or inference budgets remains challenging. In this work, we propose a method to pre-train a smaller generalpurpose language representation model, called DistilBERT, which can then be finetuned with good performances on a wide range of tasks like its larger counterparts. While most prior work investigated the use of distillation for building task-specific models, we leverage knowledge distillation during the pre-training phase and show that it is possible to reduce the size of a BERT model by 40%, while retaining 97% of its language understanding capabilities and being 60% faster.',\n",
       "  '[2015] we used a softmax-temperature: pi =\\nexp(zi/T )∑ j exp(zj/T )\\nwhere T controls the smoothness of the output distribution and zi is the model score for the class i. The same temperature T is applied to the student and the teacher at training time, while at inference, T is set to 1 to recover a standard softmax. The final training objective is a linear combination of the distillation loss Lce with the supervised training loss, in our case the masked language modeling loss Lmlm [Devlin et al., 2018]. We found it beneficial to add a cosine embedding loss (Lcos) which will tend to align the directions of the student and teacher hidden states vectors. 3 DistilBERT: a distilled version of BERT. Student architecture In the present work, the student - DistilBERT - has the same general architecture as BERT. The token-type embeddings and the pooler are removed while the number of layers is reduced by a factor of 2. Most of the operations used in the Transformer architecture (linear layer and layer normalisation) are highly optimized in modern linear algebra frameworks and our investigations showed that variations on the last dimension of the tensor (hidden size dimension) have a smaller impact on computation efficiency (for a fixed parameters budget) than variations on other factors like the number of layers. Thus we focus on reducing the number of layers. Student initialization In addition to the previously described optimization and architectural choices, an important element in our training procedure is to find the right initialization for the sub-network to converge. Taking advantage of the common dimensionality between teacher and student networks, we initialize the student from the teacher by taking one layer out of two.\\n2https://github.com/huggingface/transformers 3E.g.',\n",
       "  'In this section, we investigate the influence of various components of the triple loss and the student initialization on the performances of the distilled model. We report the macro-score on GLUE. Table 4 presents the deltas with the full triple loss: removing the Masked Language Modeling loss has little impact while the two distillation losses account for a large portion of the performance. 5 Related work. Task-specific distillation Most of the prior works focus on building task-specific distillation setups. Tang et al. [2019] transfer fine-tune classification model BERT to an LSTM-based classifier. Chatterjee [2019] distill BERT model fine-tuned on SQuAD in a smaller Transformer model previously initialized from BERT. In the present work, we found it beneficial to use a general-purpose pre-training distillation rather than a task-specific distillation. Turc et al. [2019] use the original pretraining objective to train smaller student, then fine-tuned via distillation. As shown in the ablation study, we found it beneficial to leverage the teacher’s knowledge to pre-train with additional distillation signal. Multi-distillation Yang et al. [2019] combine the knowledge of an ensemble of teachers using multi-task learning to regularize the distillation. The authors apply Multi-Task Knowledge Distillation to learn a compact question answering model from a set of large question answering models. An application of multi-distillation is multi-linguality: Tsai et al. [2019] adopts a similar approach to us by pre-training a multilingual model from scratch solely through distillation. However, as shown in the ablation study, leveraging the teacher’s knowledge with initialization and additional losses leads to substantial gains. Other compression techniques have been studied to compress large models. Recent developments in weights pruning reveal that it is possible to remove some heads in the self-attention at test time without significantly degrading the performance Michel et al. [2019].',\n",
       "  'Downstream tasks We further study the performances of DistilBERT on several downstream tasks under efficient inference constraints: a classification task (IMDb sentiment classification - Maas et al. [2011]) and a question answering task (SQuAD v1.1 - Rajpurkar et al. [2016]). As shown in Table 2, DistilBERT is only 0.6% point behind BERT in test accuracy on the IMDb benchmark while being 40% smaller. On SQuAD, DistilBERT is within 3.9 points of the full BERT. We also studied whether we could add another step of distillation during the adaptation phase by fine-tuning DistilBERT on SQuAD using a BERT model previously fine-tuned on SQuAD as a\\n4We use jiant [Wang et al., 2019] to compute the baseline.\\nteacher for an additional term in the loss (knowledge distillation). In this setting, there are thus two successive steps of distillation, one during the pre-training phase and one during the adaptation phase. In this case, we were able to reach interesting performances given the size of the model: 79.8 F1 and 70.4 EM, i.e. within 3 points of the full model. Size and inference speed\\nTo further investigate the speed-up/size trade-off of DistilBERT, we compare (in Table 3) the number of parameters of each model along with the inference time needed to do a full pass on the STSB development set on CPU (Intel Xeon E5-2690 v3 Haswell @2.9GHz) using a batch size of 1. DistilBERT has 40% fewer parameters than BERT and is 60% faster than BERT. On device computation We studied whether DistilBERT could be used for on-the-edge applications by building a mobile application for question answering. We compare the average inference time on a recent smartphone (iPhone 7 Plus) against our previously trained question answering model based on BERT-base. Excluding the tokenization step, DistilBERT is 71% faster than BERT, and the whole model weighs 207 MB (which could be further reduced with quantization). Our code is available5. 4.2 Ablation study.',\n",
       "  'BERT-base’s predictions for a masked token in \"I think this is the beginning of a beautiful [MASK]\" comprise two high probability tokens (day and life) and a long tail of valid predictions (future, story, world. . . ). Distillation We applied best practices for training BERT model recently proposed in Liu et al. [2019]. As such, DistilBERT is distilled on very large batches leveraging gradient accumulation (up to 4K examples per batch) using dynamic masking and without the next sentence prediction objective. Data and compute power We train DistilBERT on the same corpus as the original BERT model: a concatenation of English Wikipedia and Toronto Book Corpus [Zhu et al., 2015]. DistilBERT was trained on 8 16GB V100 GPUs for approximately 90 hours. For the sake of comparison, the RoBERTa model [Liu et al., 2019] required 1 day of training on 1024 32GB V100. 4 Experiments. General Language Understanding We assess the language understanding and generalization capabilities of DistilBERT on the General Language Understanding Evaluation (GLUE) benchmark [Wang et al., 2018], a collection of 9 datasets for evaluating natural language understanding systems. We report scores on the development sets for each task by fine-tuning DistilBERT without the use of ensembling or multi-tasking scheme for fine-tuning (which are mostly orthogonal to the present work). We compare the results to the baseline provided by the authors of GLUE: an ELMo (Peters et al. [2018]) encoder followed by two BiLSTMs.4\\nThe results on each of the 9 tasks are showed on Table 1 along with the macro-score (average of individual scores). Among the 9 tasks, DistilBERT is always on par or improving over the ELMo baseline (up to 19 points of accuracy on STS-B). DistilBERT also compares surprisingly well to BERT, retaining 97% of the performance with 40% fewer parameters. 4.1 Downstream task benchmark.',\n",
       "  'Some layers can be reduced to one head. A separate line of study leverages quantization to derive smaller models (Gupta et al. [2015]). Pruning and quantization are orthogonal to the present work. 5https://github.com/huggingface/swift-coreml-transformers\\n6 Conclusion and future work. We introduced DistilBERT, a general-purpose pre-trained version of BERT, 40% smaller, 60% faster, that retains 97% of the language understanding capabilities. We showed that a general-purpose language model can be successfully trained with distillation and analyzed the various components with an ablation study. We further demonstrated that DistilBERT is a compelling option for edge applications.']}"
      ]
     },
     "execution_count": 5,
     "metadata": {},
     "output_type": "execute_result"
    }
   ],
   "source": [
    "list(qa_data_topk_context.values())[21]"
   ]
  },
  {
   "cell_type": "code",
   "execution_count": 6,
   "metadata": {},
   "outputs": [
    {
     "name": "stdout",
     "output_type": "stream",
     "text": [
      "True\n",
      "['mbart', 'distilbert', 'longformer', 't5', 'sparsetransformer', 'ernie', 'pegasus', 'fnet', 'reformer', 'bart', 'roberta', 'transformerxl', 'bigbird', 'mobilebert', 'gpt2', 'electra', 'structbert', 'muril', 'scibert', 'transformer', 'gpt', 'spanbert', 'albert', 'xlnet', 'bert-pli']\n",
      "['mbart', 'distilbert', 'longformer', 't5', 'sparsetransformer', 'ernie', 'pegasus', 'fnet', 'reformer', 'bart', 'roberta', 'transformerxl', 'bigbird', 'mobilebert', 'gpt2', 'electra', 'structbert', 'muril', 'scibert', 'transformer', 'gpt', 'spanbert', 'albert', 'xlnet', 'bert-pli']\n",
      "{'22250016_mBART': 'mbart_20', '22250032_DistilBERT': 'distilbert_20', '22210006_Longformer': 'longformer_20', '22120032_T5': 't5_20', '18210007_SparseTransformer': 'sparsetransformer_20', '22250041_ERNIE': 'ernie_20', '21310020_PEGASUS': 'pegasus_20', '22210040_FNet': 'fnet_20', '22270004_Reformer': 'reformer_20', '22210045_BART': 'bart_20', '22120039_RoBERTa': 'roberta_20', '22210029_TransformerXL': 'transformerxl_20', '22210041_BigBird': 'bigbird_20', '22210013_MobileBERT': 'mobilebert_20', '22210050_GPT2': 'gpt2_20', '22210019_ELECTRA': 'electra_20', '22120047_StructBert': 'structbert_20', '22210024_MuRIL': 'muril_20', '19110101_SciBERT': 'scibert_20', '21270005_Transformer': 'transformer_20', '22310050_GPT': 'gpt_20', '22210028_SpanBERT': 'spanbert_20', '22210057_ALBERT': 'albert_20', '22250006_XLNet': 'xlnet_20', '22210026_BERT-PLI': 'bert-pli_20'}\n"
     ]
    }
   ],
   "source": [
    "sheet_to_df_map = pd.read_excel(f'{data_dir}/QAData.xlsx', sheet_name=None)\n",
    "map_mod_topkfile = {}\n",
    "map_topkfile_mod = {}\n",
    "uniq_model_names = {x.split(\"_\")[1].lower(): x for x in sheet_to_df_map.keys()}\n",
    "uniq_pkeys = []\n",
    "for k in qa_data_topk_context.keys():\n",
    "    pkey = k.split(\"_\")[0]\n",
    "    if not pkey in uniq_pkeys:\n",
    "        uniq_pkeys.append(pkey)\n",
    "    map_mod_topkfile[uniq_model_names[pkey]] = k\n",
    "    map_topkfile_mod[k] = uniq_model_names[pkey]\n",
    "\n",
    "print(uniq_pkeys == list(uniq_model_names.keys()))\n",
    "print(uniq_pkeys)\n",
    "print(list(uniq_model_names.keys()))\n",
    "print(map_mod_topkfile)"
   ]
  },
  {
   "cell_type": "code",
   "execution_count": 9,
   "metadata": {},
   "outputs": [],
   "source": [
    "train_dict = []\n",
    "test_dict  = []\n",
    "sheet_to_df_map = pd.read_excel(f'{data_dir}/QAData.xlsx', sheet_name=None)\n",
    "train_ids = random.sample(list(sheet_to_df_map.keys()), 15)\n",
    "modkey_title_map = {}\n",
    "\n",
    "for _, mod_key in enumerate(sheet_to_df_map.keys()):\n",
    "    all_prompts = []\n",
    "    model_dict_list = []\n",
    "    # print(f\"Processing model {_}: {mod_key}\")\n",
    "    model_df = sheet_to_df_map[mod_key].loc[9:]\n",
    "    col_name = sheet_to_df_map[mod_key].columns[1]\n",
    "    ptitle = list(model_df.columns)[1].strip().replace(\"\\n\", \"\")\n",
    "    if ptitle == \"BART\":\n",
    "        ptitle = \"BART: Denoising Sequence-to-Sequence Pre-training for Natural Language Generation, Translation, and Comprehension\"\n",
    "    modkey_title_map[mod_key] = ptitle\n",
    "\n",
    "\n",
    "for k, val in qa_data_topk_context.items():\n",
    "    pkey = k.split(\"_\")[0]\n",
    "    que = val['question']\n",
    "    context = val['topk_data'][0:3]\n",
    "    title = modkey_title_map[uniq_model_names[pkey]]\n",
    "    ans = val['answer']\n",
    "    \n",
    "    if uniq_model_names[pkey] in train_ids:\n",
    "        train_dict.append({\"pkey\": k, \"question\": que, \"answer\": ans, \"title\": title, \"context\": context})\n",
    "    else:\n",
    "        test_dict.append({\"pkey\": k, \"question\": que, \"answer\": ans, \"title\": title, \"context\": context})"
   ]
  },
  {
   "cell_type": "code",
   "execution_count": 10,
   "metadata": {},
   "outputs": [],
   "source": [
    "with open(\"../../data/modelcard_ft_data/train.jsonl\", \"w\") as fin:\n",
    "    for l in train_dict:\n",
    "        json.dump(l, fin)\n",
    "        fin.write(\"\\n\")\n",
    "\n",
    "with open(\"../../data/modelcard_ft_data/test.jsonl\", \"w\") as fin:\n",
    "    for l in test_dict:\n",
    "        json.dump(l, fin)\n",
    "        fin.write(\"\\n\")"
   ]
  },
  {
   "cell_type": "code",
   "execution_count": 17,
   "metadata": {},
   "outputs": [
    {
     "name": "stdout",
     "output_type": "stream",
     "text": [
      "Not matching: 22210050_GPT2 and 22250016_mBART\n",
      "Not matching: 22210028_SpanBERT and 22250016_mBART\n"
     ]
    }
   ],
   "source": [
    "for _, mod_key in enumerate(sheet_to_df_map.keys()):\n",
    "    if set(model_ques[mod_key]) == set(model_ques[\"22250016_mBART\"]):\n",
    "        continue\n",
    "    else:\n",
    "        print(f\"Not matching: {mod_key} and 22250016_mBART\")"
   ]
  },
  {
   "cell_type": "code",
   "execution_count": 19,
   "metadata": {},
   "outputs": [
    {
     "name": "stdout",
     "output_type": "stream",
     "text": [
      "List the limitations of the model discussed in the paper.?\n"
     ]
    }
   ],
   "source": [
    "for q in model_ques[\"22210028_SpanBERT\"]:\n",
    "    if not q in set(model_ques[\"22250016_mBART\"]):\n",
    "        print(q)"
   ]
  },
  {
   "cell_type": "code",
   "execution_count": 20,
   "metadata": {},
   "outputs": [
    {
     "data": {
      "text/plain": [
       "{'Are ablation studies conducted in the paper? If yes, which parameters are included in the ablation study?',\n",
       " 'Are all details necessary to reproduce the paper are provided in the paper?',\n",
       " 'Consider the transformer model as base architecture for encoder-decoder (ED) models. Similarly consider BERT and GPT as base for encoder-only (E) and decoder-only (D) architectures. How is the architecture of this paper different from the base architectures like transformer or bert or gpt (depending on ED, E, or D only model respectively)?',\n",
       " 'Describe the architecture details (whether it is encoder-decoder, encoder only or decoder only framework, number of layers, number of heads, embedding dimension, total parameters). In case multiple models of varying sizes are trained, list the details for all configurations.',\n",
       " 'Describe the computational resources used to train the model.',\n",
       " 'Describe the training setup (e.g. learning rate, steps, epochs, optimizer, etc.)',\n",
       " 'Does the model show any bias, prejudice that is mentioned in the paper?',\n",
       " 'Is the model proposed only for a specific domain, like code, images, specific text domain like finance, biomedical, etc? If yes, is it possible to extend the model to other domains?',\n",
       " 'List the datasets on which the model was trained alongwith a brief summary and the size of each dataset.',\n",
       " 'List the future work mentioned in the paper.',\n",
       " 'List the limitations of the model discussed in the paper.',\n",
       " 'List the preprocessing techinques used on the dataset.',\n",
       " 'List the tokenizer used alongwith the size of the vocabulary.',\n",
       " 'What are the gaps in previous literature that this paper tries to address?',\n",
       " 'What are the main contributions of the paper?',\n",
       " 'What datasets and tasks is the model evaluated on?',\n",
       " 'What experiments are conducted in the paper? Provide a brief summary of each experiment by commenting on the task description, input, expected output, evaluation metric.',\n",
       " 'What is the loss function that is used to train the model?',\n",
       " 'What is the main problem statement that is being addressed in this paper?',\n",
       " 'What is the pretraining objective of the model?'}"
      ]
     },
     "execution_count": 20,
     "metadata": {},
     "output_type": "execute_result"
    }
   ],
   "source": [
    "set(model_ques[\"22250016_mBART\"])"
   ]
  },
  {
   "cell_type": "code",
   "execution_count": 5,
   "metadata": {},
   "outputs": [
    {
     "data": {
      "text/html": [
       "<div>\n",
       "<style scoped>\n",
       "    .dataframe tbody tr th:only-of-type {\n",
       "        vertical-align: middle;\n",
       "    }\n",
       "\n",
       "    .dataframe tbody tr th {\n",
       "        vertical-align: top;\n",
       "    }\n",
       "\n",
       "    .dataframe thead th {\n",
       "        text-align: right;\n",
       "    }\n",
       "</style>\n",
       "<table border=\"1\" class=\"dataframe\">\n",
       "  <thead>\n",
       "    <tr style=\"text-align: right;\">\n",
       "      <th></th>\n",
       "      <th>Paper Title</th>\n",
       "      <th>mBART: Multilingual Denoising Pre-training for Neural Machine Translation</th>\n",
       "      <th>FILL MODEL NAME AND PAPER TITLE IN CELL B1</th>\n",
       "      <th>Unnamed: 3</th>\n",
       "      <th>Unnamed: 4</th>\n",
       "      <th>Unnamed: 5</th>\n",
       "      <th>Unnamed: 6</th>\n",
       "      <th>Unnamed: 7</th>\n",
       "      <th>Unnamed: 8</th>\n",
       "      <th>Unnamed: 9</th>\n",
       "      <th>Unnamed: 10</th>\n",
       "      <th>Unnamed: 11</th>\n",
       "      <th>Unnamed: 12</th>\n",
       "      <th>Unnamed: 13</th>\n",
       "      <th>Unnamed: 14</th>\n",
       "      <th>Unnamed: 15</th>\n",
       "      <th>Unnamed: 16</th>\n",
       "      <th>MISC</th>\n",
       "      <th>For the paper \"[TITLE]\", please answer the following question, with the heading \"Answer\". Also print the lines from the paper which contain the answer after the heading named \"Evidence\". Question: [QUESTION]</th>\n",
       "    </tr>\n",
       "  </thead>\n",
       "  <tbody>\n",
       "    <tr>\n",
       "      <th>9</th>\n",
       "      <td>What is the main problem statement that is bei...</td>\n",
       "      <td>For the paper \"mBART: Multilingual Denoising P...</td>\n",
       "      <td>Answer:\\n\\nThe main problem statement addresse...</td>\n",
       "      <td>(1) translation language modeling, where the m...</td>\n",
       "      <td>The main problem statement addressed in this p...</td>\n",
       "      <td>mBART is the first method for pre-training a c...</td>\n",
       "      <td>CC</td>\n",
       "      <td>Answer is correct though ecidence has some inc...</td>\n",
       "      <td>NaN</td>\n",
       "      <td>NaN</td>\n",
       "      <td>NaN</td>\n",
       "      <td>NaN</td>\n",
       "      <td>NaN</td>\n",
       "      <td>NaN</td>\n",
       "      <td>NaN</td>\n",
       "      <td>NaN</td>\n",
       "      <td>NaN</td>\n",
       "      <td>NaN</td>\n",
       "      <td>NaN</td>\n",
       "    </tr>\n",
       "    <tr>\n",
       "      <th>10</th>\n",
       "      <td>What are the gaps in previous literature that ...</td>\n",
       "      <td>For the paper \"mBART: Multilingual Denoising P...</td>\n",
       "      <td>Answer:\\n\\nThis paper tries to address the gap...</td>\n",
       "      <td>show that it outperforms existing methods for ...</td>\n",
       "      <td>This paper tries to address the gaps in previo...</td>\n",
       "      <td>mBART is the first method for pre-training a c...</td>\n",
       "      <td>CC</td>\n",
       "      <td>Answer is correct though part of the evidence ...</td>\n",
       "      <td>NaN</td>\n",
       "      <td>NaN</td>\n",
       "      <td>NaN</td>\n",
       "      <td>NaN</td>\n",
       "      <td>NaN</td>\n",
       "      <td>NaN</td>\n",
       "      <td>NaN</td>\n",
       "      <td>NaN</td>\n",
       "      <td>NaN</td>\n",
       "      <td>NaN</td>\n",
       "      <td>NaN</td>\n",
       "    </tr>\n",
       "    <tr>\n",
       "      <th>11</th>\n",
       "      <td>What are the main contributions of the paper?</td>\n",
       "      <td>For the paper \"mBART: Multilingual Denoising P...</td>\n",
       "      <td>The main contributions of the paper are:\\n\\nTh...</td>\n",
       "      <td>XNLI cross-lingual classification task</td>\n",
       "      <td>The proposal of a new denoising objective for ...</td>\n",
       "      <td>mBART is the first method for pre-training a c...</td>\n",
       "      <td>CC</td>\n",
       "      <td>Contributions part is correct only the one dat...</td>\n",
       "      <td>NaN</td>\n",
       "      <td>NaN</td>\n",
       "      <td>NaN</td>\n",
       "      <td>NaN</td>\n",
       "      <td>NaN</td>\n",
       "      <td>NaN</td>\n",
       "      <td>NaN</td>\n",
       "      <td>NaN</td>\n",
       "      <td>NaN</td>\n",
       "      <td>NaN</td>\n",
       "      <td>NaN</td>\n",
       "    </tr>\n",
       "    <tr>\n",
       "      <th>12</th>\n",
       "      <td>Is the model proposed only for a specific doma...</td>\n",
       "      <td>For the paper \"mBART: Multilingual Denoising P...</td>\n",
       "      <td>No, the model proposed in this paper, mBART, i...</td>\n",
       "      <td>NaN</td>\n",
       "      <td>No, the model proposed in this paper, mBART, i...</td>\n",
       "      <td>This paper demonstrates that multilingual deno...</td>\n",
       "      <td>CC</td>\n",
       "      <td>Answer part is correct only the one dataset me...</td>\n",
       "      <td>NaN</td>\n",
       "      <td>NaN</td>\n",
       "      <td>NaN</td>\n",
       "      <td>NaN</td>\n",
       "      <td>NaN</td>\n",
       "      <td>NaN</td>\n",
       "      <td>NaN</td>\n",
       "      <td>NaN</td>\n",
       "      <td>NaN</td>\n",
       "      <td>NaN</td>\n",
       "      <td>NaN</td>\n",
       "    </tr>\n",
       "    <tr>\n",
       "      <th>13</th>\n",
       "      <td>What datasets and tasks is the model evaluated...</td>\n",
       "      <td>For the paper \"mBART: Multilingual Denoising P...</td>\n",
       "      <td>The proposed model, mBART, is evaluated on sev...</td>\n",
       "      <td>XNLI cross-lingual classification task</td>\n",
       "      <td>The proposed model, mBART, is evaluated on sev...</td>\n",
       "      <td>We evaluate performance on two common document...</td>\n",
       "      <td>PC</td>\n",
       "      <td>Some of the datasets are not mentioned in the ...</td>\n",
       "      <td>NaN</td>\n",
       "      <td>NaN</td>\n",
       "      <td>NaN</td>\n",
       "      <td>NaN</td>\n",
       "      <td>NaN</td>\n",
       "      <td>NaN</td>\n",
       "      <td>NaN</td>\n",
       "      <td>NaN</td>\n",
       "      <td>NaN</td>\n",
       "      <td>NaN</td>\n",
       "      <td>NaN</td>\n",
       "    </tr>\n",
       "  </tbody>\n",
       "</table>\n",
       "</div>"
      ],
      "text/plain": [
       "                                          Paper Title  \\\n",
       "9   What is the main problem statement that is bei...   \n",
       "10  What are the gaps in previous literature that ...   \n",
       "11      What are the main contributions of the paper?   \n",
       "12  Is the model proposed only for a specific doma...   \n",
       "13  What datasets and tasks is the model evaluated...   \n",
       "\n",
       "   mBART: Multilingual Denoising Pre-training for Neural Machine Translation  \\\n",
       "9   For the paper \"mBART: Multilingual Denoising P...                          \n",
       "10  For the paper \"mBART: Multilingual Denoising P...                          \n",
       "11  For the paper \"mBART: Multilingual Denoising P...                          \n",
       "12  For the paper \"mBART: Multilingual Denoising P...                          \n",
       "13  For the paper \"mBART: Multilingual Denoising P...                          \n",
       "\n",
       "          FILL MODEL NAME AND PAPER TITLE IN CELL B1   \\\n",
       "9   Answer:\\n\\nThe main problem statement addresse...   \n",
       "10  Answer:\\n\\nThis paper tries to address the gap...   \n",
       "11  The main contributions of the paper are:\\n\\nTh...   \n",
       "12  No, the model proposed in this paper, mBART, i...   \n",
       "13  The proposed model, mBART, is evaluated on sev...   \n",
       "\n",
       "                                           Unnamed: 3  \\\n",
       "9   (1) translation language modeling, where the m...   \n",
       "10  show that it outperforms existing methods for ...   \n",
       "11             XNLI cross-lingual classification task   \n",
       "12                                                NaN   \n",
       "13             XNLI cross-lingual classification task   \n",
       "\n",
       "                                           Unnamed: 4  \\\n",
       "9   The main problem statement addressed in this p...   \n",
       "10  This paper tries to address the gaps in previo...   \n",
       "11  The proposal of a new denoising objective for ...   \n",
       "12  No, the model proposed in this paper, mBART, i...   \n",
       "13  The proposed model, mBART, is evaluated on sev...   \n",
       "\n",
       "                                           Unnamed: 5 Unnamed: 6  \\\n",
       "9   mBART is the first method for pre-training a c...         CC   \n",
       "10  mBART is the first method for pre-training a c...         CC   \n",
       "11  mBART is the first method for pre-training a c...         CC   \n",
       "12  This paper demonstrates that multilingual deno...         CC   \n",
       "13  We evaluate performance on two common document...         PC   \n",
       "\n",
       "                                           Unnamed: 7  Unnamed: 8  Unnamed: 9  \\\n",
       "9   Answer is correct though ecidence has some inc...         NaN         NaN   \n",
       "10  Answer is correct though part of the evidence ...         NaN         NaN   \n",
       "11  Contributions part is correct only the one dat...         NaN         NaN   \n",
       "12  Answer part is correct only the one dataset me...         NaN         NaN   \n",
       "13  Some of the datasets are not mentioned in the ...         NaN         NaN   \n",
       "\n",
       "    Unnamed: 10  Unnamed: 11  Unnamed: 12  Unnamed: 13  Unnamed: 14  \\\n",
       "9           NaN          NaN          NaN          NaN          NaN   \n",
       "10          NaN          NaN          NaN          NaN          NaN   \n",
       "11          NaN          NaN          NaN          NaN          NaN   \n",
       "12          NaN          NaN          NaN          NaN          NaN   \n",
       "13          NaN          NaN          NaN          NaN          NaN   \n",
       "\n",
       "    Unnamed: 15  Unnamed: 16  MISC  \\\n",
       "9           NaN          NaN   NaN   \n",
       "10          NaN          NaN   NaN   \n",
       "11          NaN          NaN   NaN   \n",
       "12          NaN          NaN   NaN   \n",
       "13          NaN          NaN   NaN   \n",
       "\n",
       "   For the paper \"[TITLE]\", please answer the following question, with the heading \"Answer\". Also print the lines from the paper which contain the answer after the heading named \"Evidence\". Question: [QUESTION]  \n",
       "9                                                 NaN                                                                                                                                                               \n",
       "10                                                NaN                                                                                                                                                               \n",
       "11                                                NaN                                                                                                                                                               \n",
       "12                                                NaN                                                                                                                                                               \n",
       "13                                                NaN                                                                                                                                                               "
      ]
     },
     "execution_count": 5,
     "metadata": {},
     "output_type": "execute_result"
    }
   ],
   "source": [
    "model_df.head()"
   ]
  },
  {
   "cell_type": "code",
   "execution_count": null,
   "metadata": {},
   "outputs": [],
   "source": []
  }
 ],
 "metadata": {
  "kernelspec": {
   "display_name": "sciqa",
   "language": "python",
   "name": "python3"
  },
  "language_info": {
   "codemirror_mode": {
    "name": "ipython",
    "version": 3
   },
   "file_extension": ".py",
   "mimetype": "text/x-python",
   "name": "python",
   "nbconvert_exporter": "python",
   "pygments_lexer": "ipython3",
   "version": "3.11.3"
  }
 },
 "nbformat": 4,
 "nbformat_minor": 2
}
